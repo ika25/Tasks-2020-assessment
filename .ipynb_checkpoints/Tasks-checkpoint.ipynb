{
 "cells": [
  {
   "cell_type": "markdown",
   "metadata": {},
   "source": [
    "# Taks1 - SQRT2\n",
    "\n",
    "****"
   ]
  },
  {
   "cell_type": "code",
   "execution_count": 1,
   "metadata": {},
   "outputs": [],
   "source": [
    "def sqrt(x):\n",
    "    \"\"\" \n",
    "    function to calculate the sqaure root of 2 to 100 decimal places\n",
    "    \"\"\"\n",
    "   \n",
    "    r = x  # number taking in is equal to r.\n",
    "    precision = 0.00001  # used for making the square root more accurate.\n",
    "   \n",
    "    \n",
    "    while abs(x - r * r) > precision:\n",
    "     \n",
    "   \n",
    "        r = (r + x / r) / 2  # newtons method to find more accurate decimal.\n",
    "  \n",
    "    \n",
    "    squareRoot = format('%.0f'%r) # format the square root.\n",
    "    \n",
    "    root = str(squareRoot) # turn float into a string.\n",
    "    root=list(root)[::1]   # add to a list.\n",
    "    \n",
    "    return print(\"%.100f\" % r) # print(\"%100f\" % result)"
   ]
  },
  {
   "cell_type": "markdown",
   "metadata": {},
   "source": [
    "##### Tests of the Function\n",
    "\n",
    "Here we set the functions of some known values."
   ]
  },
  {
   "cell_type": "code",
   "execution_count": 2,
   "metadata": {},
   "outputs": [],
   "source": [
    "# Test the function on 2.\n",
    "sqrt(2)"
   ]
  },
  {
   "cell_type": "code",
   "execution_count": 3,
   "metadata": {},
   "outputs": [],
   "source": [
    "# Test the function on 100.\n",
    "sqrt(100)"
   ]
  },
  {
   "cell_type": "markdown",
   "metadata": {},
   "source": [
    "### Newtons method\n",
    "Newtons method is one of many ways to find the square root of a number.\n",
    "\n",
    "To calculate newtons method."
   ]
  },
  {
   "cell_type": "markdown",
   "metadata": {},
   "source": [
    "### 1)\n",
    "First we take in a number 2 To get the 100 decimal places.\n",
    "\n",
    "### 2)\n",
    "We then pass the number into the square root alogorithm. This puts the x value into a while loop.\n",
    "\n",
    "## How this method works\n",
    "\n",
    "* Take in a value 2\n",
    "* Iterate multiple times to find a better approximation using r = (r + x / r) / 2.\n",
    "* If the while loop is satisfied using the precision \"0.00001\" exit the while loop.\n",
    "* I used python format to get rid of the decimal point squareRoot = format('%.0f'%r).\n",
    "* I converted the number into a String using root = str(squareRoot).\n",
    "* Then added this number to a list. root=list(root)[::1].\n",
    "* Then print result this number will be square root.\n",
    "\n",
    "# References\n",
    "\n",
    "* Newtons Method -  https://en.wikipedia.org/wiki/Newton%27s_method, https://surajregmi.medium.com/how-to-calculate-the-square-root-of-a-number-newton-raphson-method-f8007714f64\n",
    "* Pyton - https://www.python.org/\n",
    "* GMIT lecture videos"
   ]
  },
  {
   "cell_type": "markdown",
   "metadata": {},
   "source": [
    "*******"
   ]
  },
  {
   "cell_type": "markdown",
   "metadata": {},
   "source": [
    "# Taks 2\n",
    "*****"
   ]
  },
  {
   "cell_type": "code",
   "execution_count": 4,
   "metadata": {},
   "outputs": [
    {
     "name": "stdout",
     "output_type": "stream",
     "text": [
      "Chi-squared value: 24.5712028585826\n",
      "Degree of freedom: 6\n",
      "P value: 0.0004098425861096696\n"
     ]
    }
   ],
   "source": [
    "from scipy.stats import chi2_contingency\n",
    "\n",
    "table = [[90, 60, 104, 95], \n",
    "         [30, 50, 51, 20],\n",
    "         [30, 40, 45, 35]] #Table of observe frequencies\n",
    "\n",
    "g, p, dof, expected = chi2_contingency(table)\n",
    "\n",
    "\n",
    "\n",
    "#printing results\n",
    "print(\"Chi-squared value:\",+g)\n",
    "\n",
    "print(\"Degree of freedom:\",+dof)\n",
    "\n",
    "print(\"P value:\",+p)\n"
   ]
  },
  {
   "cell_type": "markdown",
   "metadata": {},
   "source": [
    "### Step 1\n",
    "Take in data from table.\n",
    "\n",
    "### Step 2\n",
    "Using chi2_contingency we can get the expected the numbers\n",
    "g, p, dof, expected = chi2_contingency(table)\n",
    "\n",
    "### Step 3\n",
    "\n",
    "Output data\n",
    "\n",
    "## References\n",
    "\n",
    "* https://docs.scipy.org/doc/scipy/reference/generated/scipy.stats.chi2_contingency.html\n",
    "* https://jmyao17.github.io/Statistics/Hypothesis_Test.html\n",
    "* https://python-bloggers.com/2020/09/how-to-run-chi-square-test-in-python/\n",
    "* https://machinelearningmastery.com/chi-squared-test-for-machine-learning/\n",
    "* GMIT lecture videos"
   ]
  }
 ],
 "metadata": {
  "kernelspec": {
   "display_name": "Python 3",
   "language": "python",
   "name": "python3"
  },
  "language_info": {
   "codemirror_mode": {
    "name": "ipython",
    "version": 3
   },
   "file_extension": ".py",
   "mimetype": "text/x-python",
   "name": "python",
   "nbconvert_exporter": "python",
   "pygments_lexer": "ipython3",
   "version": "3.8.3"
  }
 },
 "nbformat": 4,
 "nbformat_minor": 4
}
