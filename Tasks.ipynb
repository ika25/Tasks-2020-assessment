{
 "cells": [
  {
   "cell_type": "markdown",
   "metadata": {},
   "source": [
    "# Taks1 - SQRT2\n",
    "\n",
    "****"
   ]
  },
  {
   "cell_type": "code",
   "execution_count": 1,
   "metadata": {},
   "outputs": [],
   "source": [
    "def sqrt(x):\n",
    "    \"\"\" \n",
    "    function to calculate the sqaure root of 2 to 100 decimal places\n",
    "    \"\"\"\n",
    "   \n",
    "    r = x  # number taking in is equal to r.\n",
    "    precision = 0.00001  # used for making the square root more accurate.\n",
    "   \n",
    "    \n",
    "    while abs(x - r * r) > precision:\n",
    "     \n",
    "   \n",
    "        r = (r + x / r) / 2  # newtons method to find more accurate decimal.\n",
    "  \n",
    "    \n",
    "    squareRoot = format('%.0f'%r) # format the square root.\n",
    "    \n",
    "    root = str(squareRoot) # turn float into a string.\n",
    "    root=list(root)[::1]   # add to a list.\n",
    "    \n",
    "    return print(\"%.100f\" % r) # print(\"%100f\" % result)"
   ]
  },
  {
   "cell_type": "markdown",
   "metadata": {},
   "source": [
    "##### Tests of the Function\n",
    "\n",
    "Here we set the functions of some known values."
   ]
  },
  {
   "cell_type": "code",
   "execution_count": 2,
   "metadata": {},
   "outputs": [
    {
     "name": "stdout",
     "output_type": "stream",
     "text": [
      "1.4142156862745096645994635764509439468383789062500000000000000000000000000000000000000000000000000000\n"
     ]
    }
   ],
   "source": [
    "# Test the function on 2.\n",
    "sqrt(2)"
   ]
  },
  {
   "cell_type": "code",
   "execution_count": 3,
   "metadata": {},
   "outputs": [
    {
     "name": "stdout",
     "output_type": "stream",
     "text": [
      "10.0000000001398969828869667253457009792327880859375000000000000000000000000000000000000000000000000000\n"
     ]
    }
   ],
   "source": [
    "# Test the function on 100.\n",
    "sqrt(100)"
   ]
  },
  {
   "cell_type": "markdown",
   "metadata": {},
   "source": [
    "### Newtons method\n",
    "Newtons method is one of many ways to find the square root of a number.\n",
    "\n",
    "To calculate newtons method."
   ]
  },
  {
   "cell_type": "markdown",
   "metadata": {},
   "source": [
    "### 1)\n",
    "First we take in a number 2 To get the 100 decimal places.\n",
    "\n",
    "### 2)\n",
    "We then pass the number into the square root alogorithm. This puts the x value into a while loop.\n",
    "\n",
    "## How this method works\n",
    "\n",
    "* Take in a value 2\n",
    "* Iterate multiple times to find a better approximation using r = (r + x / r) / 2.\n",
    "* If the while loop is satisfied using the precision \"0.00001\" exit the while loop.\n",
    "* I used python format to get rid of the decimal point squareRoot = format('%.0f'%r).\n",
    "* I converted the number into a String using root = str(squareRoot).\n",
    "* Then added this number to a list. root=list(root)[::1].\n",
    "* Then print result this number will be square root.\n",
    "\n",
    "# References\n",
    "\n",
    "* Newtons Method -  https://en.wikipedia.org/wiki/Newton%27s_method, https://surajregmi.medium.com/how-to-calculate-the-square-root-of-a-number-newton-raphson-method-f8007714f64\n",
    "* Pyton - https://www.python.org/\n",
    "* GMIT lecture videos"
   ]
  },
  {
   "cell_type": "markdown",
   "metadata": {},
   "source": [
    "*******"
   ]
  },
  {
   "cell_type": "markdown",
   "metadata": {},
   "source": [
    "# Taks 2\n",
    "*****"
   ]
  },
  {
   "cell_type": "code",
   "execution_count": 4,
   "metadata": {},
   "outputs": [
    {
     "name": "stdout",
     "output_type": "stream",
     "text": [
      "Chi-squared value: 24.6\n",
      "Degree of freedom: 6.000000\n",
      "P value: 0.0004098426\n"
     ]
    }
   ],
   "source": [
    "from scipy.stats import chi2_contingency\n",
    "import pandas as pd\n",
    "import matplotlib.pyplot as plt\n",
    "from scipy.stats import chi2\n",
    "import numpy as np\n",
    "\n",
    "table = [[90, 60, 104, 95], \n",
    "         [30, 50, 51, 20],\n",
    "         [30, 40, 45, 35]] #Table of observe frequencies\n",
    "\n",
    "g, p, dof, expected = chi2_contingency(table)\n",
    "\n",
    "\n",
    "#printing results\n",
    "print(\"Chi-squared value: %.1f\"%g)\n",
    "\n",
    "print(\"Degree of freedom: %1f\"%dof)\n",
    "\n",
    "print(\"P value: %.10f\"%p )\n"
   ]
  },
  {
   "cell_type": "markdown",
   "metadata": {},
   "source": [
    "### Step 1\n",
    "Take in data from table.\n",
    "\n",
    "### Step 2\n",
    "Using chi2_contingency we can get the expected the numbers\n",
    "g, p, dof, expected = chi2_contingency(table)\n",
    "\n",
    "### Step 3\n",
    "\n",
    "Output data\n",
    "\n",
    "## References\n",
    "\n",
    "* https://docs.scipy.org/doc/scipy/reference/generated/scipy.stats.chi2_contingency.html\n",
    "* https://jmyao17.github.io/Statistics/Hypothesis_Test.html\n",
    "* https://python-bloggers.com/2020/09/how-to-run-chi-square-test-in-python/\n",
    "* https://machinelearningmastery.com/chi-squared-test-for-machine-learning/\n",
    "* GMIT lecture videos"
   ]
  },
  {
   "cell_type": "markdown",
   "metadata": {},
   "source": [
    "# Task 3 - Standard deviation"
   ]
  },
  {
   "cell_type": "markdown",
   "metadata": {},
   "source": [
    "## Packages"
   ]
  },
  {
   "cell_type": "code",
   "execution_count": 5,
   "metadata": {},
   "outputs": [],
   "source": [
    "import numpy as np"
   ]
  },
  {
   "cell_type": "markdown",
   "metadata": {},
   "source": [
    "#### Adefining array "
   ]
  },
  {
   "cell_type": "code",
   "execution_count": 6,
   "metadata": {},
   "outputs": [],
   "source": [
    "x = np.array([[2, 13], [58, 60]])"
   ]
  },
  {
   "cell_type": "markdown",
   "metadata": {},
   "source": [
    "#### STDDEV.P function"
   ]
  },
  {
   "cell_type": "code",
   "execution_count": 7,
   "metadata": {},
   "outputs": [
    {
     "name": "stdout",
     "output_type": "stream",
     "text": [
      "standard deviation of P is : 36.84\n"
     ]
    }
   ],
   "source": [
    "StddevP = np.sqrt(np.sum((x - np.mean(x))**2)/len(x))\n",
    "print(\"standard deviation of P is : %.2f\"%StddevP)"
   ]
  },
  {
   "cell_type": "markdown",
   "metadata": {},
   "source": [
    "#### STDDEV.S"
   ]
  },
  {
   "cell_type": "code",
   "execution_count": 8,
   "metadata": {},
   "outputs": [
    {
     "name": "stdout",
     "output_type": "stream",
     "text": [
      "standard deviation of a S is  : 36.83\n"
     ]
    }
   ],
   "source": [
    "StddevS = np.sqrt(np.sum((x - np.mean(x))**2)/len(x)-1)\n",
    "\n",
    "print(\"standard deviation of a S is  : %.2f\"%StddevS)"
   ]
  },
  {
   "cell_type": "markdown",
   "metadata": {},
   "source": [
    "# The goal of this task"
   ]
  },
  {
   "cell_type": "markdown",
   "metadata": {},
   "source": [
    "* Research the Excel functions STDDEV.P and STDDEV.S and explain their differences\n",
    "* STDEV.P function is used when your data represents the entire population.\n",
    "* STDEV.S function is used when your data is a sample of the entire population.\n",
    "* Creates an estimation of the STDEV."
   ]
  },
  {
   "cell_type": "markdown",
   "metadata": {},
   "source": [
    "## References\n",
    "* https://docs.scipy.org/doc/numpy-1.15.1/reference/generated/numpy.random.randint.html\n",
    "* https://machinelearningmastery.com/how-to-generate-random-numbers-in-python/\n",
    "* https://www.khanacademy.org/math/statistics-probability/summarizing-quantitative-data/variance-standard-deviation-sample/a/population-and-sample-standard-deviation-review\n",
    "* https://numpy.org/doc/stable/reference/generated/numpy.std.html\n",
    "* GMIT lecture videos"
   ]
  },
  {
   "cell_type": "markdown",
   "metadata": {},
   "source": []
  }
 ],
 "metadata": {
  "kernelspec": {
   "display_name": "Python 3",
   "language": "python",
   "name": "python3"
  },
  "language_info": {
   "codemirror_mode": {
    "name": "ipython",
    "version": 3
   },
   "file_extension": ".py",
   "mimetype": "text/x-python",
   "name": "python",
   "nbconvert_exporter": "python",
   "pygments_lexer": "ipython3",
   "version": "3.8.3"
  }
 },
 "nbformat": 4,
 "nbformat_minor": 4
}
